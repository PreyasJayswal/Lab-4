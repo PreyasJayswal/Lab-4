{
 "cells": [
  {
   "cell_type": "code",
   "execution_count": null,
   "id": "477e7be2",
   "metadata": {},
   "outputs": [],
   "source": [
    "from flask import Flask, render_template, request\n",
    "from joblib import load\n",
    "import pandas as pd\n",
    "\n",
    "app = Flask(__name__)\n",
    "\n",
    "# Load the trained model\n",
    "model = load('linear_regression_model.pkl')\n",
    "\n",
    "@app.route('/')\n",
    "def index():\n",
    "    return render_template('index.html')\n",
    "\n",
    "@app.route('/predict', methods=['POST'])\n",
    "def predict():\n",
    "    # Get the form data\n",
    "    data = {\n",
    "        'Length1': float(request.form['Length1']),\n",
    "        'Length2': float(request.form['Length2']),\n",
    "        'Length3': float(request.form['Length3']),\n",
    "        'Height': float(request.form['Height']),\n",
    "        'Width': float(request.form['Width']),\n",
    "        'Species_Bream': float(request.form['Species_Bream']),\n",
    "        'Species_Parkki': float(request.form['Species_Parkki']),\n",
    "        # Add input fields for other species categories as well\n",
    "    }\n",
    "\n",
    "    # Create a DataFrame from the form data\n",
    "    input_data = pd.DataFrame([data])\n",
    "\n",
    "    # Make prediction using the loaded model\n",
    "    prediction = model.predict(input_data)\n",
    "\n",
    "    # Return the prediction to the webpage\n",
    "    return render_template('index.html', prediction=prediction[0])\n",
    "\n",
    "if __name__ == '__main__':\n",
    "    app.run(debug=True,port=8070)"
   ]
  }
 ],
 "metadata": {
  "kernelspec": {
   "display_name": "Python 3 (ipykernel)",
   "language": "python",
   "name": "python3"
  },
  "language_info": {
   "codemirror_mode": {
    "name": "ipython",
    "version": 3
   },
   "file_extension": ".py",
   "mimetype": "text/x-python",
   "name": "python",
   "nbconvert_exporter": "python",
   "pygments_lexer": "ipython3",
   "version": "3.11.5"
  }
 },
 "nbformat": 4,
 "nbformat_minor": 5
}
